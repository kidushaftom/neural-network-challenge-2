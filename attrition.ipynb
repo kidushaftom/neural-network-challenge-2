{
  "cells": [
    {
      "cell_type": "markdown",
      "metadata": {
        "id": "alIIEHibGc3M"
      },
      "source": [
        "## Part 1: Preprocessing"
      ]
    },
    {
      "cell_type": "code",
      "execution_count": 1,
      "metadata": {
        "colab": {
          "base_uri": "https://localhost:8080/",
          "height": 325
        },
        "id": "6eDUJ4NtGc3P",
        "outputId": "2480098c-135c-4cbf-9552-018494ee8ff5"
      },
      "outputs": [
        {
          "data": {
            "text/html": [
              "<div>\n",
              "<style scoped>\n",
              "    .dataframe tbody tr th:only-of-type {\n",
              "        vertical-align: middle;\n",
              "    }\n",
              "\n",
              "    .dataframe tbody tr th {\n",
              "        vertical-align: top;\n",
              "    }\n",
              "\n",
              "    .dataframe thead th {\n",
              "        text-align: right;\n",
              "    }\n",
              "</style>\n",
              "<table border=\"1\" class=\"dataframe\">\n",
              "  <thead>\n",
              "    <tr style=\"text-align: right;\">\n",
              "      <th></th>\n",
              "      <th>Age</th>\n",
              "      <th>Attrition</th>\n",
              "      <th>BusinessTravel</th>\n",
              "      <th>Department</th>\n",
              "      <th>DistanceFromHome</th>\n",
              "      <th>Education</th>\n",
              "      <th>EducationField</th>\n",
              "      <th>EnvironmentSatisfaction</th>\n",
              "      <th>HourlyRate</th>\n",
              "      <th>JobInvolvement</th>\n",
              "      <th>...</th>\n",
              "      <th>PerformanceRating</th>\n",
              "      <th>RelationshipSatisfaction</th>\n",
              "      <th>StockOptionLevel</th>\n",
              "      <th>TotalWorkingYears</th>\n",
              "      <th>TrainingTimesLastYear</th>\n",
              "      <th>WorkLifeBalance</th>\n",
              "      <th>YearsAtCompany</th>\n",
              "      <th>YearsInCurrentRole</th>\n",
              "      <th>YearsSinceLastPromotion</th>\n",
              "      <th>YearsWithCurrManager</th>\n",
              "    </tr>\n",
              "  </thead>\n",
              "  <tbody>\n",
              "    <tr>\n",
              "      <th>0</th>\n",
              "      <td>41</td>\n",
              "      <td>Yes</td>\n",
              "      <td>Travel_Rarely</td>\n",
              "      <td>Sales</td>\n",
              "      <td>1</td>\n",
              "      <td>2</td>\n",
              "      <td>Life Sciences</td>\n",
              "      <td>2</td>\n",
              "      <td>94</td>\n",
              "      <td>3</td>\n",
              "      <td>...</td>\n",
              "      <td>3</td>\n",
              "      <td>1</td>\n",
              "      <td>0</td>\n",
              "      <td>8</td>\n",
              "      <td>0</td>\n",
              "      <td>1</td>\n",
              "      <td>6</td>\n",
              "      <td>4</td>\n",
              "      <td>0</td>\n",
              "      <td>5</td>\n",
              "    </tr>\n",
              "    <tr>\n",
              "      <th>1</th>\n",
              "      <td>49</td>\n",
              "      <td>No</td>\n",
              "      <td>Travel_Frequently</td>\n",
              "      <td>Research &amp; Development</td>\n",
              "      <td>8</td>\n",
              "      <td>1</td>\n",
              "      <td>Life Sciences</td>\n",
              "      <td>3</td>\n",
              "      <td>61</td>\n",
              "      <td>2</td>\n",
              "      <td>...</td>\n",
              "      <td>4</td>\n",
              "      <td>4</td>\n",
              "      <td>1</td>\n",
              "      <td>10</td>\n",
              "      <td>3</td>\n",
              "      <td>3</td>\n",
              "      <td>10</td>\n",
              "      <td>7</td>\n",
              "      <td>1</td>\n",
              "      <td>7</td>\n",
              "    </tr>\n",
              "    <tr>\n",
              "      <th>2</th>\n",
              "      <td>37</td>\n",
              "      <td>Yes</td>\n",
              "      <td>Travel_Rarely</td>\n",
              "      <td>Research &amp; Development</td>\n",
              "      <td>2</td>\n",
              "      <td>2</td>\n",
              "      <td>Other</td>\n",
              "      <td>4</td>\n",
              "      <td>92</td>\n",
              "      <td>2</td>\n",
              "      <td>...</td>\n",
              "      <td>3</td>\n",
              "      <td>2</td>\n",
              "      <td>0</td>\n",
              "      <td>7</td>\n",
              "      <td>3</td>\n",
              "      <td>3</td>\n",
              "      <td>0</td>\n",
              "      <td>0</td>\n",
              "      <td>0</td>\n",
              "      <td>0</td>\n",
              "    </tr>\n",
              "    <tr>\n",
              "      <th>3</th>\n",
              "      <td>33</td>\n",
              "      <td>No</td>\n",
              "      <td>Travel_Frequently</td>\n",
              "      <td>Research &amp; Development</td>\n",
              "      <td>3</td>\n",
              "      <td>4</td>\n",
              "      <td>Life Sciences</td>\n",
              "      <td>4</td>\n",
              "      <td>56</td>\n",
              "      <td>3</td>\n",
              "      <td>...</td>\n",
              "      <td>3</td>\n",
              "      <td>3</td>\n",
              "      <td>0</td>\n",
              "      <td>8</td>\n",
              "      <td>3</td>\n",
              "      <td>3</td>\n",
              "      <td>8</td>\n",
              "      <td>7</td>\n",
              "      <td>3</td>\n",
              "      <td>0</td>\n",
              "    </tr>\n",
              "    <tr>\n",
              "      <th>4</th>\n",
              "      <td>27</td>\n",
              "      <td>No</td>\n",
              "      <td>Travel_Rarely</td>\n",
              "      <td>Research &amp; Development</td>\n",
              "      <td>2</td>\n",
              "      <td>1</td>\n",
              "      <td>Medical</td>\n",
              "      <td>1</td>\n",
              "      <td>40</td>\n",
              "      <td>3</td>\n",
              "      <td>...</td>\n",
              "      <td>3</td>\n",
              "      <td>4</td>\n",
              "      <td>1</td>\n",
              "      <td>6</td>\n",
              "      <td>3</td>\n",
              "      <td>3</td>\n",
              "      <td>2</td>\n",
              "      <td>2</td>\n",
              "      <td>2</td>\n",
              "      <td>2</td>\n",
              "    </tr>\n",
              "  </tbody>\n",
              "</table>\n",
              "<p>5 rows × 27 columns</p>\n",
              "</div>"
            ],
            "text/plain": [
              "   Age Attrition     BusinessTravel              Department  DistanceFromHome  \\\n",
              "0   41       Yes      Travel_Rarely                   Sales                 1   \n",
              "1   49        No  Travel_Frequently  Research & Development                 8   \n",
              "2   37       Yes      Travel_Rarely  Research & Development                 2   \n",
              "3   33        No  Travel_Frequently  Research & Development                 3   \n",
              "4   27        No      Travel_Rarely  Research & Development                 2   \n",
              "\n",
              "   Education EducationField  EnvironmentSatisfaction  HourlyRate  \\\n",
              "0          2  Life Sciences                        2          94   \n",
              "1          1  Life Sciences                        3          61   \n",
              "2          2          Other                        4          92   \n",
              "3          4  Life Sciences                        4          56   \n",
              "4          1        Medical                        1          40   \n",
              "\n",
              "   JobInvolvement  ...  PerformanceRating RelationshipSatisfaction  \\\n",
              "0               3  ...                  3                        1   \n",
              "1               2  ...                  4                        4   \n",
              "2               2  ...                  3                        2   \n",
              "3               3  ...                  3                        3   \n",
              "4               3  ...                  3                        4   \n",
              "\n",
              "   StockOptionLevel TotalWorkingYears  TrainingTimesLastYear WorkLifeBalance  \\\n",
              "0                 0                 8                      0               1   \n",
              "1                 1                10                      3               3   \n",
              "2                 0                 7                      3               3   \n",
              "3                 0                 8                      3               3   \n",
              "4                 1                 6                      3               3   \n",
              "\n",
              "   YearsAtCompany  YearsInCurrentRole  YearsSinceLastPromotion  \\\n",
              "0               6                   4                        0   \n",
              "1              10                   7                        1   \n",
              "2               0                   0                        0   \n",
              "3               8                   7                        3   \n",
              "4               2                   2                        2   \n",
              "\n",
              "   YearsWithCurrManager  \n",
              "0                     5  \n",
              "1                     7  \n",
              "2                     0  \n",
              "3                     0  \n",
              "4                     2  \n",
              "\n",
              "[5 rows x 27 columns]"
            ]
          },
          "execution_count": 1,
          "metadata": {},
          "output_type": "execute_result"
        }
      ],
      "source": [
        "# Import our dependencies\n",
        "from sklearn.model_selection import train_test_split\n",
        "from sklearn.preprocessing import StandardScaler\n",
        "import pandas as pd\n",
        "import numpy as np\n",
        "from tensorflow.keras.models import Model\n",
        "from tensorflow.keras import layers\n",
        "\n",
        "#  Import and read the attrition data\n",
        "attrition_df = pd.read_csv('https://static.bc-edx.com/ai/ail-v-1-0/m19/lms/datasets/attrition.csv')\n",
        "attrition_df.head()"
      ]
    },
    {
      "cell_type": "code",
      "execution_count": 2,
      "metadata": {
        "colab": {
          "base_uri": "https://localhost:8080/"
        },
        "id": "g22aQSY4Gc3Q",
        "outputId": "1f5c13c1-b981-4e40-a7ed-dd3fe6f1b81e"
      },
      "outputs": [
        {
          "data": {
            "text/plain": [
              "Age                         43\n",
              "Attrition                    2\n",
              "BusinessTravel               3\n",
              "Department                   3\n",
              "DistanceFromHome            29\n",
              "Education                    5\n",
              "EducationField               6\n",
              "EnvironmentSatisfaction      4\n",
              "HourlyRate                  71\n",
              "JobInvolvement               4\n",
              "JobLevel                     5\n",
              "JobRole                      9\n",
              "JobSatisfaction              4\n",
              "MaritalStatus                3\n",
              "NumCompaniesWorked          10\n",
              "OverTime                     2\n",
              "PercentSalaryHike           15\n",
              "PerformanceRating            2\n",
              "RelationshipSatisfaction     4\n",
              "StockOptionLevel             4\n",
              "TotalWorkingYears           40\n",
              "TrainingTimesLastYear        7\n",
              "WorkLifeBalance              4\n",
              "YearsAtCompany              37\n",
              "YearsInCurrentRole          19\n",
              "YearsSinceLastPromotion     16\n",
              "YearsWithCurrManager        18\n",
              "dtype: int64"
            ]
          },
          "execution_count": 2,
          "metadata": {},
          "output_type": "execute_result"
        }
      ],
      "source": [
        "# Determine the number of unique values in each column.\n",
        "attrition_df.nunique()"
      ]
    },
    {
      "cell_type": "code",
      "execution_count": 3,
      "metadata": {
        "id": "50vMgBEnJbfM"
      },
      "outputs": [
        {
          "name": "stdout",
          "output_type": "stream",
          "text": [
            "<class 'pandas.core.frame.DataFrame'>\n",
            "RangeIndex: 1470 entries, 0 to 1469\n",
            "Data columns (total 2 columns):\n",
            " #   Column      Non-Null Count  Dtype \n",
            "---  ------      --------------  ----- \n",
            " 0   Attrition   1470 non-null   object\n",
            " 1   Department  1470 non-null   object\n",
            "dtypes: object(2)\n",
            "memory usage: 23.1+ KB\n"
          ]
        }
      ],
      "source": [
        "# Create y_df with the Attrition and Department columns\n",
        "y_df = attrition_df[['Attrition','Department']]\n",
        "y_df.info()"
      ]
    },
    {
      "cell_type": "code",
      "execution_count": 4,
      "metadata": {
        "colab": {
          "base_uri": "https://localhost:8080/"
        },
        "id": "Virka0zLGc3R",
        "outputId": "dd5aee3a-9458-4ba6-e857-1b234de40915"
      },
      "outputs": [
        {
          "name": "stdout",
          "output_type": "stream",
          "text": [
            "<class 'pandas.core.frame.DataFrame'>\n",
            "RangeIndex: 1470 entries, 0 to 1469\n",
            "Data columns (total 14 columns):\n",
            " #   Column                   Non-Null Count  Dtype \n",
            "---  ------                   --------------  ----- \n",
            " 0   Age                      1470 non-null   int64 \n",
            " 1   TotalWorkingYears        1470 non-null   int64 \n",
            " 2   DistanceFromHome         1470 non-null   int64 \n",
            " 3   HourlyRate               1470 non-null   int64 \n",
            " 4   YearsAtCompany           1470 non-null   int64 \n",
            " 5   PercentSalaryHike        1470 non-null   int64 \n",
            " 6   NumCompaniesWorked       1470 non-null   int64 \n",
            " 7   OverTime                 1470 non-null   object\n",
            " 8   EnvironmentSatisfaction  1470 non-null   int64 \n",
            " 9   YearsWithCurrManager     1470 non-null   int64 \n",
            " 10  YearsInCurrentRole       1470 non-null   int64 \n",
            " 11  TrainingTimesLastYear    1470 non-null   int64 \n",
            " 12  JobSatisfaction          1470 non-null   int64 \n",
            " 13  StockOptionLevel         1470 non-null   int64 \n",
            "dtypes: int64(13), object(1)\n",
            "memory usage: 160.9+ KB\n"
          ]
        }
      ],
      "source": [
        "# Create a list of at least 10 column names to use as X data\n",
        "col_list = ['Age',\n",
        " 'TotalWorkingYears',\n",
        " 'DistanceFromHome',\n",
        " 'HourlyRate',\n",
        " 'YearsAtCompany',\n",
        " 'PercentSalaryHike',\n",
        " 'NumCompaniesWorked',\n",
        " 'OverTime',\n",
        " 'EnvironmentSatisfaction',\n",
        " 'YearsWithCurrManager',\n",
        " 'YearsInCurrentRole',\n",
        " 'TrainingTimesLastYear',\n",
        " 'JobSatisfaction',\n",
        " 'StockOptionLevel']\n",
        "\n",
        "\n",
        "# Create X_df using your selected columns\n",
        "X_df = attrition_df[col_list]\n",
        "\n",
        "# Show the data types for X_df\n",
        "\n",
        "X_df.info()"
      ]
    },
    {
      "cell_type": "code",
      "execution_count": 5,
      "metadata": {
        "id": "KaJfdOGUMHMR"
      },
      "outputs": [],
      "source": [
        "# Split the data into training and testing sets\n",
        "from sklearn.model_selection import train_test_split\n",
        "\n",
        "X_train,X_test,y_train,y_test = train_test_split(X_df,y_df,random_state= 42)"
      ]
    },
    {
      "cell_type": "code",
      "execution_count": 6,
      "metadata": {
        "colab": {
          "base_uri": "https://localhost:8080/"
        },
        "id": "NYubUJqiLCSp",
        "outputId": "53f31721-571c-4c94-d13e-25a715749593"
      },
      "outputs": [],
      "source": [
        "# Convert your X data to numeric data types however you see fit\n",
        "# Add new code cells as necessary\n",
        "X_train['OverTime'] = X_train['OverTime'].map({'Yes': 1, 'No': 0})\n",
        "X_test['OverTime'] = X_test['OverTime'].map({'Yes': 1, 'No': 0})\n"
      ]
    },
    {
      "cell_type": "code",
      "execution_count": 7,
      "metadata": {
        "id": "EWA-aIA5Gc3T"
      },
      "outputs": [
        {
          "data": {
            "text/html": [
              "<div>\n",
              "<style scoped>\n",
              "    .dataframe tbody tr th:only-of-type {\n",
              "        vertical-align: middle;\n",
              "    }\n",
              "\n",
              "    .dataframe tbody tr th {\n",
              "        vertical-align: top;\n",
              "    }\n",
              "\n",
              "    .dataframe thead th {\n",
              "        text-align: right;\n",
              "    }\n",
              "</style>\n",
              "<table border=\"1\" class=\"dataframe\">\n",
              "  <thead>\n",
              "    <tr style=\"text-align: right;\">\n",
              "      <th></th>\n",
              "      <th>Age</th>\n",
              "      <th>TotalWorkingYears</th>\n",
              "      <th>DistanceFromHome</th>\n",
              "      <th>HourlyRate</th>\n",
              "      <th>YearsAtCompany</th>\n",
              "      <th>PercentSalaryHike</th>\n",
              "      <th>NumCompaniesWorked</th>\n",
              "      <th>OverTime</th>\n",
              "      <th>EnvironmentSatisfaction</th>\n",
              "      <th>YearsWithCurrManager</th>\n",
              "      <th>YearsInCurrentRole</th>\n",
              "      <th>TrainingTimesLastYear</th>\n",
              "      <th>JobSatisfaction</th>\n",
              "      <th>StockOptionLevel</th>\n",
              "    </tr>\n",
              "  </thead>\n",
              "  <tbody>\n",
              "    <tr>\n",
              "      <th>0</th>\n",
              "      <td>-0.852159</td>\n",
              "      <td>-0.014296</td>\n",
              "      <td>-0.285906</td>\n",
              "      <td>-0.374600</td>\n",
              "      <td>-0.642460</td>\n",
              "      <td>-0.342853</td>\n",
              "      <td>0.138872</td>\n",
              "      <td>-0.642511</td>\n",
              "      <td>1.190392</td>\n",
              "      <td>-0.569369</td>\n",
              "      <td>-0.603137</td>\n",
              "      <td>-0.615111</td>\n",
              "      <td>-1.569331</td>\n",
              "      <td>-0.949842</td>\n",
              "    </tr>\n",
              "    <tr>\n",
              "      <th>1</th>\n",
              "      <td>-0.093088</td>\n",
              "      <td>0.498037</td>\n",
              "      <td>-1.017204</td>\n",
              "      <td>0.309668</td>\n",
              "      <td>-0.970918</td>\n",
              "      <td>-0.617036</td>\n",
              "      <td>1.331364</td>\n",
              "      <td>-0.642511</td>\n",
              "      <td>-0.641748</td>\n",
              "      <td>-1.138997</td>\n",
              "      <td>-1.155867</td>\n",
              "      <td>1.695749</td>\n",
              "      <td>0.251093</td>\n",
              "      <td>-0.949842</td>\n",
              "    </tr>\n",
              "    <tr>\n",
              "      <th>2</th>\n",
              "      <td>-0.309965</td>\n",
              "      <td>0.498037</td>\n",
              "      <td>-0.773438</td>\n",
              "      <td>0.700678</td>\n",
              "      <td>0.999830</td>\n",
              "      <td>0.753879</td>\n",
              "      <td>0.138872</td>\n",
              "      <td>-0.642511</td>\n",
              "      <td>1.190392</td>\n",
              "      <td>2.278769</td>\n",
              "      <td>1.331416</td>\n",
              "      <td>-0.615111</td>\n",
              "      <td>-1.569331</td>\n",
              "      <td>-0.949842</td>\n",
              "    </tr>\n",
              "    <tr>\n",
              "      <th>3</th>\n",
              "      <td>-1.069036</td>\n",
              "      <td>-0.526629</td>\n",
              "      <td>-0.042139</td>\n",
              "      <td>-1.107744</td>\n",
              "      <td>0.014456</td>\n",
              "      <td>-0.342853</td>\n",
              "      <td>-0.656123</td>\n",
              "      <td>-0.642511</td>\n",
              "      <td>1.190392</td>\n",
              "      <td>0.854700</td>\n",
              "      <td>0.778687</td>\n",
              "      <td>1.695749</td>\n",
              "      <td>1.161305</td>\n",
              "      <td>-0.949842</td>\n",
              "    </tr>\n",
              "    <tr>\n",
              "      <th>4</th>\n",
              "      <td>-0.526843</td>\n",
              "      <td>-0.142379</td>\n",
              "      <td>0.079744</td>\n",
              "      <td>-0.570105</td>\n",
              "      <td>0.507143</td>\n",
              "      <td>-0.891219</td>\n",
              "      <td>-0.656123</td>\n",
              "      <td>-0.642511</td>\n",
              "      <td>1.190392</td>\n",
              "      <td>1.139514</td>\n",
              "      <td>0.778687</td>\n",
              "      <td>-0.615111</td>\n",
              "      <td>1.161305</td>\n",
              "      <td>-0.949842</td>\n",
              "    </tr>\n",
              "    <tr>\n",
              "      <th>...</th>\n",
              "      <td>...</td>\n",
              "      <td>...</td>\n",
              "      <td>...</td>\n",
              "      <td>...</td>\n",
              "      <td>...</td>\n",
              "      <td>...</td>\n",
              "      <td>...</td>\n",
              "      <td>...</td>\n",
              "      <td>...</td>\n",
              "      <td>...</td>\n",
              "      <td>...</td>\n",
              "      <td>...</td>\n",
              "      <td>...</td>\n",
              "      <td>...</td>\n",
              "    </tr>\n",
              "    <tr>\n",
              "      <th>1097</th>\n",
              "      <td>-0.201527</td>\n",
              "      <td>-0.142379</td>\n",
              "      <td>2.273640</td>\n",
              "      <td>-1.009992</td>\n",
              "      <td>0.507143</td>\n",
              "      <td>0.479696</td>\n",
              "      <td>-0.656123</td>\n",
              "      <td>-0.642511</td>\n",
              "      <td>-0.641748</td>\n",
              "      <td>1.139514</td>\n",
              "      <td>1.331416</td>\n",
              "      <td>0.155176</td>\n",
              "      <td>0.251093</td>\n",
              "      <td>1.363364</td>\n",
              "    </tr>\n",
              "    <tr>\n",
              "      <th>1098</th>\n",
              "      <td>0.449105</td>\n",
              "      <td>-0.014296</td>\n",
              "      <td>-0.529672</td>\n",
              "      <td>0.896184</td>\n",
              "      <td>-0.642460</td>\n",
              "      <td>-0.891219</td>\n",
              "      <td>0.138872</td>\n",
              "      <td>-0.642511</td>\n",
              "      <td>-0.641748</td>\n",
              "      <td>-0.569369</td>\n",
              "      <td>-0.603137</td>\n",
              "      <td>0.155176</td>\n",
              "      <td>-0.659119</td>\n",
              "      <td>-0.949842</td>\n",
              "    </tr>\n",
              "    <tr>\n",
              "      <th>1099</th>\n",
              "      <td>-1.611229</td>\n",
              "      <td>-1.295129</td>\n",
              "      <td>-0.773438</td>\n",
              "      <td>-0.912239</td>\n",
              "      <td>-1.135147</td>\n",
              "      <td>-1.165402</td>\n",
              "      <td>-1.053621</td>\n",
              "      <td>1.556393</td>\n",
              "      <td>0.274322</td>\n",
              "      <td>-1.138997</td>\n",
              "      <td>-1.155867</td>\n",
              "      <td>1.695749</td>\n",
              "      <td>1.161305</td>\n",
              "      <td>0.206761</td>\n",
              "    </tr>\n",
              "    <tr>\n",
              "      <th>1100</th>\n",
              "      <td>-0.852159</td>\n",
              "      <td>-0.142379</td>\n",
              "      <td>0.445393</td>\n",
              "      <td>-1.009992</td>\n",
              "      <td>-0.478231</td>\n",
              "      <td>-0.617036</td>\n",
              "      <td>0.536369</td>\n",
              "      <td>1.556393</td>\n",
              "      <td>1.190392</td>\n",
              "      <td>-0.284555</td>\n",
              "      <td>-0.326772</td>\n",
              "      <td>-0.615111</td>\n",
              "      <td>-0.659119</td>\n",
              "      <td>0.206761</td>\n",
              "    </tr>\n",
              "    <tr>\n",
              "      <th>1101</th>\n",
              "      <td>1.425053</td>\n",
              "      <td>2.035037</td>\n",
              "      <td>-0.042139</td>\n",
              "      <td>-0.374600</td>\n",
              "      <td>-0.970918</td>\n",
              "      <td>0.205513</td>\n",
              "      <td>0.536369</td>\n",
              "      <td>1.556393</td>\n",
              "      <td>0.274322</td>\n",
              "      <td>-1.138997</td>\n",
              "      <td>-1.155867</td>\n",
              "      <td>-0.615111</td>\n",
              "      <td>0.251093</td>\n",
              "      <td>0.206761</td>\n",
              "    </tr>\n",
              "  </tbody>\n",
              "</table>\n",
              "<p>1102 rows × 14 columns</p>\n",
              "</div>"
            ],
            "text/plain": [
              "           Age  TotalWorkingYears  DistanceFromHome  HourlyRate  \\\n",
              "0    -0.852159          -0.014296         -0.285906   -0.374600   \n",
              "1    -0.093088           0.498037         -1.017204    0.309668   \n",
              "2    -0.309965           0.498037         -0.773438    0.700678   \n",
              "3    -1.069036          -0.526629         -0.042139   -1.107744   \n",
              "4    -0.526843          -0.142379          0.079744   -0.570105   \n",
              "...        ...                ...               ...         ...   \n",
              "1097 -0.201527          -0.142379          2.273640   -1.009992   \n",
              "1098  0.449105          -0.014296         -0.529672    0.896184   \n",
              "1099 -1.611229          -1.295129         -0.773438   -0.912239   \n",
              "1100 -0.852159          -0.142379          0.445393   -1.009992   \n",
              "1101  1.425053           2.035037         -0.042139   -0.374600   \n",
              "\n",
              "      YearsAtCompany  PercentSalaryHike  NumCompaniesWorked  OverTime  \\\n",
              "0          -0.642460          -0.342853            0.138872 -0.642511   \n",
              "1          -0.970918          -0.617036            1.331364 -0.642511   \n",
              "2           0.999830           0.753879            0.138872 -0.642511   \n",
              "3           0.014456          -0.342853           -0.656123 -0.642511   \n",
              "4           0.507143          -0.891219           -0.656123 -0.642511   \n",
              "...              ...                ...                 ...       ...   \n",
              "1097        0.507143           0.479696           -0.656123 -0.642511   \n",
              "1098       -0.642460          -0.891219            0.138872 -0.642511   \n",
              "1099       -1.135147          -1.165402           -1.053621  1.556393   \n",
              "1100       -0.478231          -0.617036            0.536369  1.556393   \n",
              "1101       -0.970918           0.205513            0.536369  1.556393   \n",
              "\n",
              "      EnvironmentSatisfaction  YearsWithCurrManager  YearsInCurrentRole  \\\n",
              "0                    1.190392             -0.569369           -0.603137   \n",
              "1                   -0.641748             -1.138997           -1.155867   \n",
              "2                    1.190392              2.278769            1.331416   \n",
              "3                    1.190392              0.854700            0.778687   \n",
              "4                    1.190392              1.139514            0.778687   \n",
              "...                       ...                   ...                 ...   \n",
              "1097                -0.641748              1.139514            1.331416   \n",
              "1098                -0.641748             -0.569369           -0.603137   \n",
              "1099                 0.274322             -1.138997           -1.155867   \n",
              "1100                 1.190392             -0.284555           -0.326772   \n",
              "1101                 0.274322             -1.138997           -1.155867   \n",
              "\n",
              "      TrainingTimesLastYear  JobSatisfaction  StockOptionLevel  \n",
              "0                 -0.615111        -1.569331         -0.949842  \n",
              "1                  1.695749         0.251093         -0.949842  \n",
              "2                 -0.615111        -1.569331         -0.949842  \n",
              "3                  1.695749         1.161305         -0.949842  \n",
              "4                 -0.615111         1.161305         -0.949842  \n",
              "...                     ...              ...               ...  \n",
              "1097               0.155176         0.251093          1.363364  \n",
              "1098               0.155176        -0.659119         -0.949842  \n",
              "1099               1.695749         1.161305          0.206761  \n",
              "1100              -0.615111        -0.659119          0.206761  \n",
              "1101              -0.615111         0.251093          0.206761  \n",
              "\n",
              "[1102 rows x 14 columns]"
            ]
          },
          "execution_count": 7,
          "metadata": {},
          "output_type": "execute_result"
        }
      ],
      "source": [
        "# Create a StandardScaler\n",
        "from sklearn.preprocessing import StandardScaler\n",
        "StandardScaler = StandardScaler()\n",
        "# Fit the StandardScaler to the training data\n",
        "StandardScaler.fit(X_train)\n",
        "\n",
        "# Scale the training and testing data\n",
        "X_train_scaled = pd.DataFrame(StandardScaler.transform(X_train), columns=X_train.columns)\n",
        "X_test_scaled = pd.DataFrame(StandardScaler.transform(X_test), columns=X_train.columns)\n",
        "\n",
        "X_train_scaled"
      ]
    },
    {
      "cell_type": "code",
      "execution_count": 8,
      "metadata": {
        "colab": {
          "base_uri": "https://localhost:8080/"
        },
        "id": "-z0Mky8vQSz4",
        "outputId": "debefc85-c20b-48f5-f4d9-91eadd65d36a"
      },
      "outputs": [],
      "source": [
        "# Create a OneHotEncoder for the Department column\n",
        "from sklearn.preprocessing import OneHotEncoder\n",
        "dept_encoder = OneHotEncoder(sparse_output= False)\n",
        "# Fit the encoder to the training data\n",
        "dept_encoder.fit(y_train[['Department']])\n",
        "# Create two new variables by applying the encoder\n",
        "# to the training and testing data\n",
        "y_train_department_encoded = dept_encoder.transform(y_train[['Department']])\n",
        "y_test_department_encoded = dept_encoder.transform(y_test[['Department']])\n"
      ]
    },
    {
      "cell_type": "code",
      "execution_count": 9,
      "metadata": {
        "colab": {
          "base_uri": "https://localhost:8080/"
        },
        "id": "-G4DSpvFRrk4",
        "outputId": "9842e948-8a55-4b80-8fac-f96714e85589"
      },
      "outputs": [],
      "source": [
        "# Create a OneHotEncoder for the Attrition column\n",
        "att_encoder  = OneHotEncoder(sparse_output= False)\n",
        "\n",
        "# Fit the encoder to the training data\n",
        "att_encoder.fit(y_train[['Attrition']])\n",
        "# Create two new variables by applying the encoder\n",
        "# to the training and testing data\n",
        "\n",
        "y_train_attrition_encoded =att_encoder.transform(y_train[['Attrition']])\n",
        "                                          \n",
        "y_test_attrition_encoded = att_encoder.transform(y_test[['Attrition']])\n"
      ]
    },
    {
      "cell_type": "markdown",
      "metadata": {
        "id": "ykNmu_WWGc3T"
      },
      "source": [
        "## Create, Compile, and Train the Model"
      ]
    },
    {
      "cell_type": "code",
      "execution_count": 10,
      "metadata": {
        "id": "WUptZqmSGc3T"
      },
      "outputs": [],
      "source": [
        "# Find the number of columns in the X training data\n",
        "input_shape = X_train_scaled.shape[1]\n",
        "\n",
        "# Create the input layer\n",
        "input_layer = layers.Input(shape=(input_shape,))\n",
        "\n",
        "\n",
        "# Create at least two shared layers\n",
        "shared_layer1 = layers.Dense(64, activation='relu')(input_layer)\n",
        "shared_layer2 = layers.Dense(32, activation='relu')(shared_layer1)"
      ]
    },
    {
      "cell_type": "code",
      "execution_count": 11,
      "metadata": {
        "id": "JukjTm2yTEqd"
      },
      "outputs": [],
      "source": [
        "# Create a branch for Department\n",
        "# with a hidden layer and an output layer\n",
        "\n",
        "# Create the hidden layer\n",
        "department_hidden = layers.Dense(16, activation='relu')(shared_layer2)\n",
        "\n",
        "# Create the output layer\n",
        "department_output = layers.Dense(y_train_department_encoded.shape[1], activation='softmax', name='department_output')(department_hidden)\n"
      ]
    },
    {
      "cell_type": "code",
      "execution_count": 12,
      "metadata": {
        "id": "9OqhUiOJUBkR"
      },
      "outputs": [],
      "source": [
        "# Create a branch for Attrition\n",
        "# with a hidden layer and an output layer\n",
        "\n",
        "# Create the hidden layer\n",
        "attrition_hidden = layers.Dense(16, activation='relu')(shared_layer2)\n",
        "\n",
        "\n",
        "\n",
        "# Create the output layer\n",
        "attrition_output = layers.Dense(y_test_attrition_encoded.shape[1], activation='softmax', name='attrition_output')(attrition_hidden)"
      ]
    },
    {
      "cell_type": "code",
      "execution_count": 13,
      "metadata": {
        "colab": {
          "base_uri": "https://localhost:8080/"
        },
        "id": "twmuejdxGc3T",
        "outputId": "25096308-b68b-42e4-e4ea-ae82e97c435a"
      },
      "outputs": [
        {
          "name": "stdout",
          "output_type": "stream",
          "text": [
            "Model: \"model\"\n",
            "__________________________________________________________________________________________________\n",
            " Layer (type)                   Output Shape         Param #     Connected to                     \n",
            "==================================================================================================\n",
            " input_1 (InputLayer)           [(None, 14)]         0           []                               \n",
            "                                                                                                  \n",
            " dense (Dense)                  (None, 64)           960         ['input_1[0][0]']                \n",
            "                                                                                                  \n",
            " dense_1 (Dense)                (None, 32)           2080        ['dense[0][0]']                  \n",
            "                                                                                                  \n",
            " dense_2 (Dense)                (None, 16)           528         ['dense_1[0][0]']                \n",
            "                                                                                                  \n",
            " dense_3 (Dense)                (None, 16)           528         ['dense_1[0][0]']                \n",
            "                                                                                                  \n",
            " department_output (Dense)      (None, 3)            51          ['dense_2[0][0]']                \n",
            "                                                                                                  \n",
            " attrition_output (Dense)       (None, 2)            34          ['dense_3[0][0]']                \n",
            "                                                                                                  \n",
            "==================================================================================================\n",
            "Total params: 4,181\n",
            "Trainable params: 4,181\n",
            "Non-trainable params: 0\n",
            "__________________________________________________________________________________________________\n"
          ]
        }
      ],
      "source": [
        "# Create the model\n",
        "model = Model(inputs=input_layer, outputs=[department_output, attrition_output])\n",
        "# Compile the model\n",
        "model.compile(optimizer='adam',\n",
        "              loss={'department_output': 'categorical_crossentropy', 'attrition_output': 'categorical_crossentropy'},\n",
        "              metrics={'department_output': 'accuracy', 'attrition_output': 'accuracy'})\n",
        "\n",
        "\n",
        "# Summarize the model\n",
        "model.summary()"
      ]
    },
    {
      "cell_type": "code",
      "execution_count": 14,
      "metadata": {
        "colab": {
          "base_uri": "https://localhost:8080/"
        },
        "id": "c8oGy0dpGc3U",
        "outputId": "cc667d43-28cf-42d4-d719-c2bc02888d30"
      },
      "outputs": [
        {
          "name": "stdout",
          "output_type": "stream",
          "text": [
            "Epoch 1/50\n",
            "35/35 [==============================] - 1s 16ms/step - loss: 1.4583 - department_output_loss: 0.9581 - attrition_output_loss: 0.5002 - department_output_accuracy: 0.6062 - attrition_output_accuracy: 0.8276 - val_loss: 1.2103 - val_department_output_loss: 0.8273 - val_attrition_output_loss: 0.3830 - val_department_output_accuracy: 0.6549 - val_attrition_output_accuracy: 0.8696\n",
            "Epoch 2/50\n",
            "35/35 [==============================] - 0s 4ms/step - loss: 1.2275 - department_output_loss: 0.7996 - attrition_output_loss: 0.4278 - department_output_accuracy: 0.6515 - attrition_output_accuracy: 0.8285 - val_loss: 1.1576 - val_department_output_loss: 0.7888 - val_attrition_output_loss: 0.3688 - val_department_output_accuracy: 0.6603 - val_attrition_output_accuracy: 0.8696\n",
            "Epoch 3/50\n",
            "35/35 [==============================] - 0s 3ms/step - loss: 1.1652 - department_output_loss: 0.7720 - attrition_output_loss: 0.3932 - department_output_accuracy: 0.6525 - attrition_output_accuracy: 0.8285 - val_loss: 1.1475 - val_department_output_loss: 0.7891 - val_attrition_output_loss: 0.3584 - val_department_output_accuracy: 0.6549 - val_attrition_output_accuracy: 0.8696\n",
            "Epoch 4/50\n",
            "35/35 [==============================] - 0s 3ms/step - loss: 1.1299 - department_output_loss: 0.7573 - attrition_output_loss: 0.3727 - department_output_accuracy: 0.6515 - attrition_output_accuracy: 0.8303 - val_loss: 1.1555 - val_department_output_loss: 0.7912 - val_attrition_output_loss: 0.3643 - val_department_output_accuracy: 0.6522 - val_attrition_output_accuracy: 0.8723\n",
            "Epoch 5/50\n",
            "35/35 [==============================] - 0s 3ms/step - loss: 1.1079 - department_output_loss: 0.7478 - attrition_output_loss: 0.3601 - department_output_accuracy: 0.6515 - attrition_output_accuracy: 0.8421 - val_loss: 1.1569 - val_department_output_loss: 0.7924 - val_attrition_output_loss: 0.3645 - val_department_output_accuracy: 0.6576 - val_attrition_output_accuracy: 0.8777\n",
            "Epoch 6/50\n",
            "35/35 [==============================] - 0s 3ms/step - loss: 1.0874 - department_output_loss: 0.7392 - attrition_output_loss: 0.3482 - department_output_accuracy: 0.6543 - attrition_output_accuracy: 0.8603 - val_loss: 1.1578 - val_department_output_loss: 0.7927 - val_attrition_output_loss: 0.3651 - val_department_output_accuracy: 0.6576 - val_attrition_output_accuracy: 0.8668\n",
            "Epoch 7/50\n",
            "35/35 [==============================] - 0s 4ms/step - loss: 1.0684 - department_output_loss: 0.7296 - attrition_output_loss: 0.3388 - department_output_accuracy: 0.6525 - attrition_output_accuracy: 0.8593 - val_loss: 1.1646 - val_department_output_loss: 0.7968 - val_attrition_output_loss: 0.3679 - val_department_output_accuracy: 0.6603 - val_attrition_output_accuracy: 0.8641\n",
            "Epoch 8/50\n",
            "35/35 [==============================] - 0s 4ms/step - loss: 1.0544 - department_output_loss: 0.7240 - attrition_output_loss: 0.3304 - department_output_accuracy: 0.6515 - attrition_output_accuracy: 0.8675 - val_loss: 1.1686 - val_department_output_loss: 0.8019 - val_attrition_output_loss: 0.3667 - val_department_output_accuracy: 0.6576 - val_attrition_output_accuracy: 0.8668\n",
            "Epoch 9/50\n",
            "35/35 [==============================] - 0s 3ms/step - loss: 1.0470 - department_output_loss: 0.7200 - attrition_output_loss: 0.3269 - department_output_accuracy: 0.6570 - attrition_output_accuracy: 0.8730 - val_loss: 1.1702 - val_department_output_loss: 0.8039 - val_attrition_output_loss: 0.3663 - val_department_output_accuracy: 0.6576 - val_attrition_output_accuracy: 0.8641\n",
            "Epoch 10/50\n",
            "35/35 [==============================] - 0s 3ms/step - loss: 1.0316 - department_output_loss: 0.7153 - attrition_output_loss: 0.3163 - department_output_accuracy: 0.6552 - attrition_output_accuracy: 0.8802 - val_loss: 1.1733 - val_department_output_loss: 0.8072 - val_attrition_output_loss: 0.3661 - val_department_output_accuracy: 0.6576 - val_attrition_output_accuracy: 0.8668\n",
            "Epoch 11/50\n",
            "35/35 [==============================] - 0s 3ms/step - loss: 1.0147 - department_output_loss: 0.7036 - attrition_output_loss: 0.3111 - department_output_accuracy: 0.6615 - attrition_output_accuracy: 0.8748 - val_loss: 1.1771 - val_department_output_loss: 0.8102 - val_attrition_output_loss: 0.3669 - val_department_output_accuracy: 0.6522 - val_attrition_output_accuracy: 0.8668\n",
            "Epoch 12/50\n",
            "35/35 [==============================] - 0s 3ms/step - loss: 0.9989 - department_output_loss: 0.6958 - attrition_output_loss: 0.3031 - department_output_accuracy: 0.6615 - attrition_output_accuracy: 0.8775 - val_loss: 1.1863 - val_department_output_loss: 0.8193 - val_attrition_output_loss: 0.3671 - val_department_output_accuracy: 0.6495 - val_attrition_output_accuracy: 0.8668\n",
            "Epoch 13/50\n",
            "35/35 [==============================] - 0s 4ms/step - loss: 0.9885 - department_output_loss: 0.6896 - attrition_output_loss: 0.2989 - department_output_accuracy: 0.6642 - attrition_output_accuracy: 0.8739 - val_loss: 1.1883 - val_department_output_loss: 0.8182 - val_attrition_output_loss: 0.3702 - val_department_output_accuracy: 0.6277 - val_attrition_output_accuracy: 0.8614\n",
            "Epoch 14/50\n",
            "35/35 [==============================] - 0s 4ms/step - loss: 0.9762 - department_output_loss: 0.6827 - attrition_output_loss: 0.2935 - department_output_accuracy: 0.6733 - attrition_output_accuracy: 0.8748 - val_loss: 1.1978 - val_department_output_loss: 0.8219 - val_attrition_output_loss: 0.3758 - val_department_output_accuracy: 0.6359 - val_attrition_output_accuracy: 0.8696\n",
            "Epoch 15/50\n",
            "35/35 [==============================] - 0s 4ms/step - loss: 0.9692 - department_output_loss: 0.6805 - attrition_output_loss: 0.2888 - department_output_accuracy: 0.6851 - attrition_output_accuracy: 0.8766 - val_loss: 1.2030 - val_department_output_loss: 0.8278 - val_attrition_output_loss: 0.3752 - val_department_output_accuracy: 0.6386 - val_attrition_output_accuracy: 0.8560\n",
            "Epoch 16/50\n",
            "35/35 [==============================] - 0s 4ms/step - loss: 0.9536 - department_output_loss: 0.6735 - attrition_output_loss: 0.2801 - department_output_accuracy: 0.6742 - attrition_output_accuracy: 0.8820 - val_loss: 1.2111 - val_department_output_loss: 0.8324 - val_attrition_output_loss: 0.3787 - val_department_output_accuracy: 0.6332 - val_attrition_output_accuracy: 0.8478\n",
            "Epoch 17/50\n",
            "35/35 [==============================] - 0s 3ms/step - loss: 0.9438 - department_output_loss: 0.6669 - attrition_output_loss: 0.2769 - department_output_accuracy: 0.6951 - attrition_output_accuracy: 0.8838 - val_loss: 1.2204 - val_department_output_loss: 0.8383 - val_attrition_output_loss: 0.3822 - val_department_output_accuracy: 0.6359 - val_attrition_output_accuracy: 0.8614\n",
            "Epoch 18/50\n",
            "35/35 [==============================] - 0s 4ms/step - loss: 0.9324 - department_output_loss: 0.6592 - attrition_output_loss: 0.2732 - department_output_accuracy: 0.7005 - attrition_output_accuracy: 0.8802 - val_loss: 1.2394 - val_department_output_loss: 0.8521 - val_attrition_output_loss: 0.3873 - val_department_output_accuracy: 0.6359 - val_attrition_output_accuracy: 0.8478\n",
            "Epoch 19/50\n",
            "35/35 [==============================] - 0s 4ms/step - loss: 0.9193 - department_output_loss: 0.6542 - attrition_output_loss: 0.2651 - department_output_accuracy: 0.6933 - attrition_output_accuracy: 0.8911 - val_loss: 1.2310 - val_department_output_loss: 0.8431 - val_attrition_output_loss: 0.3878 - val_department_output_accuracy: 0.6277 - val_attrition_output_accuracy: 0.8560\n",
            "Epoch 20/50\n",
            "35/35 [==============================] - 0s 3ms/step - loss: 0.9130 - department_output_loss: 0.6428 - attrition_output_loss: 0.2703 - department_output_accuracy: 0.7005 - attrition_output_accuracy: 0.8884 - val_loss: 1.2503 - val_department_output_loss: 0.8533 - val_attrition_output_loss: 0.3970 - val_department_output_accuracy: 0.6223 - val_attrition_output_accuracy: 0.8478\n",
            "Epoch 21/50\n",
            "35/35 [==============================] - 0s 4ms/step - loss: 0.8963 - department_output_loss: 0.6358 - attrition_output_loss: 0.2605 - department_output_accuracy: 0.7078 - attrition_output_accuracy: 0.8938 - val_loss: 1.2710 - val_department_output_loss: 0.8630 - val_attrition_output_loss: 0.4080 - val_department_output_accuracy: 0.6114 - val_attrition_output_accuracy: 0.8614\n",
            "Epoch 22/50\n",
            "35/35 [==============================] - 0s 3ms/step - loss: 0.8825 - department_output_loss: 0.6309 - attrition_output_loss: 0.2516 - department_output_accuracy: 0.7087 - attrition_output_accuracy: 0.8956 - val_loss: 1.2573 - val_department_output_loss: 0.8608 - val_attrition_output_loss: 0.3964 - val_department_output_accuracy: 0.6196 - val_attrition_output_accuracy: 0.8560\n",
            "Epoch 23/50\n",
            "35/35 [==============================] - 0s 3ms/step - loss: 0.8642 - department_output_loss: 0.6195 - attrition_output_loss: 0.2447 - department_output_accuracy: 0.7214 - attrition_output_accuracy: 0.8956 - val_loss: 1.2751 - val_department_output_loss: 0.8708 - val_attrition_output_loss: 0.4043 - val_department_output_accuracy: 0.6114 - val_attrition_output_accuracy: 0.8533\n",
            "Epoch 24/50\n",
            "35/35 [==============================] - 0s 4ms/step - loss: 0.8571 - department_output_loss: 0.6173 - attrition_output_loss: 0.2398 - department_output_accuracy: 0.7250 - attrition_output_accuracy: 0.8975 - val_loss: 1.2803 - val_department_output_loss: 0.8708 - val_attrition_output_loss: 0.4095 - val_department_output_accuracy: 0.6196 - val_attrition_output_accuracy: 0.8560\n",
            "Epoch 25/50\n",
            "35/35 [==============================] - 0s 3ms/step - loss: 0.8427 - department_output_loss: 0.6072 - attrition_output_loss: 0.2355 - department_output_accuracy: 0.7359 - attrition_output_accuracy: 0.9056 - val_loss: 1.2969 - val_department_output_loss: 0.8808 - val_attrition_output_loss: 0.4161 - val_department_output_accuracy: 0.6250 - val_attrition_output_accuracy: 0.8478\n",
            "Epoch 26/50\n",
            "35/35 [==============================] - 0s 3ms/step - loss: 0.8289 - department_output_loss: 0.6016 - attrition_output_loss: 0.2273 - department_output_accuracy: 0.7278 - attrition_output_accuracy: 0.9065 - val_loss: 1.3116 - val_department_output_loss: 0.8905 - val_attrition_output_loss: 0.4211 - val_department_output_accuracy: 0.6250 - val_attrition_output_accuracy: 0.8533\n",
            "Epoch 27/50\n",
            "35/35 [==============================] - 0s 3ms/step - loss: 0.8160 - department_output_loss: 0.5916 - attrition_output_loss: 0.2243 - department_output_accuracy: 0.7495 - attrition_output_accuracy: 0.9147 - val_loss: 1.3159 - val_department_output_loss: 0.8899 - val_attrition_output_loss: 0.4260 - val_department_output_accuracy: 0.6168 - val_attrition_output_accuracy: 0.8560\n",
            "Epoch 28/50\n",
            "35/35 [==============================] - 0s 3ms/step - loss: 0.8012 - department_output_loss: 0.5833 - attrition_output_loss: 0.2178 - department_output_accuracy: 0.7486 - attrition_output_accuracy: 0.9156 - val_loss: 1.3353 - val_department_output_loss: 0.9051 - val_attrition_output_loss: 0.4302 - val_department_output_accuracy: 0.6114 - val_attrition_output_accuracy: 0.8478\n",
            "Epoch 29/50\n",
            "35/35 [==============================] - 0s 3ms/step - loss: 0.7914 - department_output_loss: 0.5800 - attrition_output_loss: 0.2114 - department_output_accuracy: 0.7486 - attrition_output_accuracy: 0.9211 - val_loss: 1.3496 - val_department_output_loss: 0.9132 - val_attrition_output_loss: 0.4364 - val_department_output_accuracy: 0.6168 - val_attrition_output_accuracy: 0.8533\n",
            "Epoch 30/50\n",
            "35/35 [==============================] - 0s 3ms/step - loss: 0.7835 - department_output_loss: 0.5756 - attrition_output_loss: 0.2079 - department_output_accuracy: 0.7559 - attrition_output_accuracy: 0.9156 - val_loss: 1.3546 - val_department_output_loss: 0.9091 - val_attrition_output_loss: 0.4455 - val_department_output_accuracy: 0.5788 - val_attrition_output_accuracy: 0.8424\n",
            "Epoch 31/50\n",
            "35/35 [==============================] - 0s 3ms/step - loss: 0.7680 - department_output_loss: 0.5619 - attrition_output_loss: 0.2060 - department_output_accuracy: 0.7632 - attrition_output_accuracy: 0.9211 - val_loss: 1.3805 - val_department_output_loss: 0.9337 - val_attrition_output_loss: 0.4468 - val_department_output_accuracy: 0.6087 - val_attrition_output_accuracy: 0.8587\n",
            "Epoch 32/50\n",
            "35/35 [==============================] - 0s 3ms/step - loss: 0.7470 - department_output_loss: 0.5518 - attrition_output_loss: 0.1952 - department_output_accuracy: 0.7686 - attrition_output_accuracy: 0.9220 - val_loss: 1.3870 - val_department_output_loss: 0.9304 - val_attrition_output_loss: 0.4566 - val_department_output_accuracy: 0.5978 - val_attrition_output_accuracy: 0.8560\n",
            "Epoch 33/50\n",
            "35/35 [==============================] - 0s 3ms/step - loss: 0.7341 - department_output_loss: 0.5431 - attrition_output_loss: 0.1910 - department_output_accuracy: 0.7750 - attrition_output_accuracy: 0.9283 - val_loss: 1.4108 - val_department_output_loss: 0.9422 - val_attrition_output_loss: 0.4685 - val_department_output_accuracy: 0.5897 - val_attrition_output_accuracy: 0.8370\n",
            "Epoch 34/50\n",
            "35/35 [==============================] - 0s 4ms/step - loss: 0.7299 - department_output_loss: 0.5369 - attrition_output_loss: 0.1930 - department_output_accuracy: 0.7813 - attrition_output_accuracy: 0.9192 - val_loss: 1.4178 - val_department_output_loss: 0.9590 - val_attrition_output_loss: 0.4588 - val_department_output_accuracy: 0.6033 - val_attrition_output_accuracy: 0.8505\n",
            "Epoch 35/50\n",
            "35/35 [==============================] - 0s 3ms/step - loss: 0.7071 - department_output_loss: 0.5266 - attrition_output_loss: 0.1805 - department_output_accuracy: 0.7886 - attrition_output_accuracy: 0.9328 - val_loss: 1.4313 - val_department_output_loss: 0.9626 - val_attrition_output_loss: 0.4687 - val_department_output_accuracy: 0.5951 - val_attrition_output_accuracy: 0.8533\n",
            "Epoch 36/50\n",
            "35/35 [==============================] - 0s 3ms/step - loss: 0.6933 - department_output_loss: 0.5171 - attrition_output_loss: 0.1762 - department_output_accuracy: 0.7904 - attrition_output_accuracy: 0.9338 - val_loss: 1.4697 - val_department_output_loss: 0.9787 - val_attrition_output_loss: 0.4911 - val_department_output_accuracy: 0.5924 - val_attrition_output_accuracy: 0.8451\n",
            "Epoch 37/50\n",
            "35/35 [==============================] - 0s 3ms/step - loss: 0.6875 - department_output_loss: 0.5122 - attrition_output_loss: 0.1753 - department_output_accuracy: 0.7913 - attrition_output_accuracy: 0.9347 - val_loss: 1.4861 - val_department_output_loss: 0.9942 - val_attrition_output_loss: 0.4920 - val_department_output_accuracy: 0.5788 - val_attrition_output_accuracy: 0.8587\n",
            "Epoch 38/50\n",
            "35/35 [==============================] - 0s 3ms/step - loss: 0.6755 - department_output_loss: 0.5084 - attrition_output_loss: 0.1672 - department_output_accuracy: 0.7958 - attrition_output_accuracy: 0.9374 - val_loss: 1.4713 - val_department_output_loss: 0.9858 - val_attrition_output_loss: 0.4855 - val_department_output_accuracy: 0.5761 - val_attrition_output_accuracy: 0.8370\n",
            "Epoch 39/50\n",
            "35/35 [==============================] - 0s 3ms/step - loss: 0.6621 - department_output_loss: 0.5013 - attrition_output_loss: 0.1608 - department_output_accuracy: 0.7940 - attrition_output_accuracy: 0.9374 - val_loss: 1.4899 - val_department_output_loss: 0.9894 - val_attrition_output_loss: 0.5005 - val_department_output_accuracy: 0.5761 - val_attrition_output_accuracy: 0.8424\n",
            "Epoch 40/50\n",
            "35/35 [==============================] - 0s 3ms/step - loss: 0.6422 - department_output_loss: 0.4860 - attrition_output_loss: 0.1562 - department_output_accuracy: 0.8131 - attrition_output_accuracy: 0.9392 - val_loss: 1.5319 - val_department_output_loss: 1.0161 - val_attrition_output_loss: 0.5158 - val_department_output_accuracy: 0.5734 - val_attrition_output_accuracy: 0.8478\n",
            "Epoch 41/50\n",
            "35/35 [==============================] - 0s 3ms/step - loss: 0.6322 - department_output_loss: 0.4818 - attrition_output_loss: 0.1503 - department_output_accuracy: 0.8140 - attrition_output_accuracy: 0.9446 - val_loss: 1.5627 - val_department_output_loss: 1.0255 - val_attrition_output_loss: 0.5372 - val_department_output_accuracy: 0.5815 - val_attrition_output_accuracy: 0.8478\n",
            "Epoch 42/50\n",
            "35/35 [==============================] - 0s 3ms/step - loss: 0.6251 - department_output_loss: 0.4736 - attrition_output_loss: 0.1515 - department_output_accuracy: 0.8212 - attrition_output_accuracy: 0.9365 - val_loss: 1.5477 - val_department_output_loss: 1.0220 - val_attrition_output_loss: 0.5257 - val_department_output_accuracy: 0.5598 - val_attrition_output_accuracy: 0.8370\n",
            "Epoch 43/50\n",
            "35/35 [==============================] - 0s 3ms/step - loss: 0.6101 - department_output_loss: 0.4638 - attrition_output_loss: 0.1463 - department_output_accuracy: 0.8158 - attrition_output_accuracy: 0.9483 - val_loss: 1.6116 - val_department_output_loss: 1.0658 - val_attrition_output_loss: 0.5458 - val_department_output_accuracy: 0.5761 - val_attrition_output_accuracy: 0.8505\n",
            "Epoch 44/50\n",
            "35/35 [==============================] - 0s 3ms/step - loss: 0.5931 - department_output_loss: 0.4532 - attrition_output_loss: 0.1399 - department_output_accuracy: 0.8149 - attrition_output_accuracy: 0.9437 - val_loss: 1.5968 - val_department_output_loss: 1.0519 - val_attrition_output_loss: 0.5449 - val_department_output_accuracy: 0.5815 - val_attrition_output_accuracy: 0.8424\n",
            "Epoch 45/50\n",
            "35/35 [==============================] - 0s 3ms/step - loss: 0.5973 - department_output_loss: 0.4549 - attrition_output_loss: 0.1424 - department_output_accuracy: 0.8158 - attrition_output_accuracy: 0.9510 - val_loss: 1.6309 - val_department_output_loss: 1.0717 - val_attrition_output_loss: 0.5592 - val_department_output_accuracy: 0.5707 - val_attrition_output_accuracy: 0.8451\n",
            "Epoch 46/50\n",
            "35/35 [==============================] - 0s 4ms/step - loss: 0.5695 - department_output_loss: 0.4399 - attrition_output_loss: 0.1296 - department_output_accuracy: 0.8303 - attrition_output_accuracy: 0.9501 - val_loss: 1.6239 - val_department_output_loss: 1.0696 - val_attrition_output_loss: 0.5543 - val_department_output_accuracy: 0.5625 - val_attrition_output_accuracy: 0.8505\n",
            "Epoch 47/50\n",
            "35/35 [==============================] - 0s 2ms/step - loss: 0.5497 - department_output_loss: 0.4261 - attrition_output_loss: 0.1235 - department_output_accuracy: 0.8403 - attrition_output_accuracy: 0.9510 - val_loss: 1.6643 - val_department_output_loss: 1.0837 - val_attrition_output_loss: 0.5806 - val_department_output_accuracy: 0.5652 - val_attrition_output_accuracy: 0.8234\n",
            "Epoch 48/50\n",
            "35/35 [==============================] - 0s 2ms/step - loss: 0.5415 - department_output_loss: 0.4210 - attrition_output_loss: 0.1205 - department_output_accuracy: 0.8421 - attrition_output_accuracy: 0.9574 - val_loss: 1.7133 - val_department_output_loss: 1.1102 - val_attrition_output_loss: 0.6030 - val_department_output_accuracy: 0.5652 - val_attrition_output_accuracy: 0.8315\n",
            "Epoch 49/50\n",
            "35/35 [==============================] - 0s 2ms/step - loss: 0.5292 - department_output_loss: 0.4117 - attrition_output_loss: 0.1175 - department_output_accuracy: 0.8512 - attrition_output_accuracy: 0.9592 - val_loss: 1.6888 - val_department_output_loss: 1.1096 - val_attrition_output_loss: 0.5792 - val_department_output_accuracy: 0.5571 - val_attrition_output_accuracy: 0.8179\n",
            "Epoch 50/50\n",
            "35/35 [==============================] - 0s 3ms/step - loss: 0.5249 - department_output_loss: 0.4070 - attrition_output_loss: 0.1179 - department_output_accuracy: 0.8512 - attrition_output_accuracy: 0.9564 - val_loss: 1.7620 - val_department_output_loss: 1.1336 - val_attrition_output_loss: 0.6284 - val_department_output_accuracy: 0.5679 - val_attrition_output_accuracy: 0.8288\n"
          ]
        }
      ],
      "source": [
        "# Train the model\n",
        "history = model.fit(X_train_scaled, {'department_output': y_train_department_encoded, 'attrition_output': y_train_attrition_encoded},\n",
        "          validation_data=(X_test_scaled, {'department_output': y_test_department_encoded, 'attrition_output': y_test_attrition_encoded}),\n",
        "          epochs=50)"
      ]
    },
    {
      "cell_type": "code",
      "execution_count": 15,
      "metadata": {
        "colab": {
          "base_uri": "https://localhost:8080/"
        },
        "id": "VsMoaQlgGc3U",
        "outputId": "1bd4e601-e964-4abc-ad83-aeecf6b696be"
      },
      "outputs": [
        {
          "name": "stdout",
          "output_type": "stream",
          "text": [
            "12/12 [==============================] - 0s 1ms/step - loss: 1.7620 - department_output_loss: 1.1336 - attrition_output_loss: 0.6284 - department_output_accuracy: 0.5679 - attrition_output_accuracy: 0.8288\n"
          ]
        }
      ],
      "source": [
        "# Evaluate the model with the testing data\n",
        "evaluation = model.evaluate(X_test_scaled, {'department_output': y_test_department_encoded, 'attrition_output': y_test_attrition_encoded})\n"
      ]
    },
    {
      "cell_type": "code",
      "execution_count": 16,
      "metadata": {
        "colab": {
          "base_uri": "https://localhost:8080/"
        },
        "id": "ZlCtlHi0Vt54",
        "outputId": "bc21ef3e-80c2-4b38-9c29-79515bc23dec"
      },
      "outputs": [
        {
          "name": "stdout",
          "output_type": "stream",
          "text": [
            "department_output_accuracy: 0.5679348111152649\n",
            "attrition_output_accuracy: 0.8288043737411499\n"
          ]
        }
      ],
      "source": [
        "# Print the accuracy for both department and attrition\n",
        "print(f'department_output_accuracy: {evaluation[3]}')\n",
        "print(f'attrition_output_accuracy: {evaluation[4]}')"
      ]
    },
    {
      "cell_type": "code",
      "execution_count": 17,
      "metadata": {},
      "outputs": [
        {
          "data": {
            "text/plain": [
              "Attrition\n",
              "No     1233\n",
              "Yes     237\n",
              "Name: count, dtype: int64"
            ]
          },
          "execution_count": 17,
          "metadata": {},
          "output_type": "execute_result"
        }
      ],
      "source": [
        "attrition_df['Attrition'].value_counts()"
      ]
    },
    {
      "cell_type": "markdown",
      "metadata": {
        "id": "eGSyfsZfWOQM"
      },
      "source": [
        "# Summary\n",
        "\n",
        "In the provided space below, briefly answer the following questions.\n",
        "\n",
        "1. Is accuracy the best metric to use on this data? Why or why not?\n",
        " \n",
        "2. What activation functions did you choose for your output layers, and why?\n",
        "\n",
        "3. Can you name a few ways that this model might be improved?"
      ]
    },
    {
      "cell_type": "markdown",
      "metadata": {
        "id": "pi9SLpFnWvbF"
      },
      "source": [
        "YOUR ANSWERS HERE\n",
        "\n",
        "1. mbalanced classes: the classes in the Attrition columns are imbalanced (i.e., one class significantly outnumbers the others), accuracy alone can be misleading.\n",
        "2. Softmax outputs probabilities: Softmax converts the raw output values into probabilities, where each class's probability is between 0 and 1 and all probabilities sum to 1. This is crucial for multiclass classification as it provides a clear interpretation of the model's confidence in each class prediction.\n",
        "3. Addressing class imbalance, Feature engineering, and optimizing parameters are few to mention "
      ]
    },
    {
      "cell_type": "markdown",
      "metadata": {},
      "source": []
    }
  ],
  "metadata": {
    "colab": {
      "provenance": []
    },
    "kernelspec": {
      "display_name": "Python 3",
      "language": "python",
      "name": "python3"
    },
    "language_info": {
      "codemirror_mode": {
        "name": "ipython",
        "version": 3
      },
      "file_extension": ".py",
      "mimetype": "text/x-python",
      "name": "python",
      "nbconvert_exporter": "python",
      "pygments_lexer": "ipython3",
      "version": "3.10.13"
    },
    "vscode": {
      "interpreter": {
        "hash": "31f2aee4e71d21fbe5cf8b01ff0e069b9275f58929596ceb00d14d90e3e16cd6"
      }
    }
  },
  "nbformat": 4,
  "nbformat_minor": 0
}
